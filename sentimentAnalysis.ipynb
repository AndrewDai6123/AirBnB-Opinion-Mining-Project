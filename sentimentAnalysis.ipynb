{
 "cells": [
  {
   "cell_type": "code",
   "execution_count": 2,
   "metadata": {},
   "outputs": [],
   "source": [
    "#load NLP Packages\n",
    "import spacy\n",
    "nlp = spacy.load('en_core_web_sm')"
   ]
  },
  {
   "cell_type": "code",
   "execution_count": 3,
   "metadata": {},
   "outputs": [
    {
     "data": {
      "text/plain": [
       "[('tok2vec', <spacy.pipeline.tok2vec.Tok2Vec at 0x1b97fec3460>),\n",
       " ('tagger', <spacy.pipeline.tagger.Tagger at 0x1b97fec3c40>),\n",
       " ('parser', <spacy.pipeline.dep_parser.DependencyParser at 0x1b97fd4f8b0>),\n",
       " ('senter', <spacy.pipeline.senter.SentenceRecognizer at 0x1b97fec3be0>),\n",
       " ('attribute_ruler',\n",
       "  <spacy.pipeline.attributeruler.AttributeRuler at 0x1b90608dc00>),\n",
       " ('lemmatizer', <spacy.lang.en.lemmatizer.EnglishLemmatizer at 0x1b90608e280>),\n",
       " ('ner', <spacy.pipeline.ner.EntityRecognizer at 0x1b97fd4fb50>)]"
      ]
     },
     "execution_count": 3,
     "metadata": {},
     "output_type": "execute_result"
    }
   ],
   "source": [
    "#Explore Components of NLP pipeline\n",
    "#Method\n",
    "nlp.components"
   ]
  },
  {
   "cell_type": "code",
   "execution_count": 4,
   "metadata": {},
   "outputs": [
    {
     "data": {
      "text/plain": [
       "[('tok2vec', <spacy.pipeline.tok2vec.Tok2Vec at 0x1b97fec3460>),\n",
       " ('tagger', <spacy.pipeline.tagger.Tagger at 0x1b97fec3c40>),\n",
       " ('parser', <spacy.pipeline.dep_parser.DependencyParser at 0x1b97fd4f8b0>),\n",
       " ('attribute_ruler',\n",
       "  <spacy.pipeline.attributeruler.AttributeRuler at 0x1b90608dc00>),\n",
       " ('lemmatizer', <spacy.lang.en.lemmatizer.EnglishLemmatizer at 0x1b90608e280>),\n",
       " ('ner', <spacy.pipeline.ner.EntityRecognizer at 0x1b97fd4fb50>)]"
      ]
     },
     "execution_count": 4,
     "metadata": {},
     "output_type": "execute_result"
    }
   ],
   "source": [
    "#Method 2\n",
    "nlp.pipeline"
   ]
  },
  {
   "cell_type": "markdown",
   "metadata": {},
   "source": [
    "Using Spacy Textblob: Sentiment Analysis using Textblob"
   ]
  },
  {
   "cell_type": "code",
   "execution_count": 5,
   "metadata": {},
   "outputs": [],
   "source": [
    "from spacytextblob.spacytextblob import SpacyTextBlob"
   ]
  },
  {
   "cell_type": "code",
   "execution_count": 7,
   "metadata": {},
   "outputs": [
    {
     "data": {
      "text/plain": [
       "<spacytextblob.spacytextblob.SpacyTextBlob at 0x1b91a363b80>"
      ]
     },
     "execution_count": 7,
     "metadata": {},
     "output_type": "execute_result"
    }
   ],
   "source": [
    "# Adding SpacyTextblob to NLP Pipeline\n",
    "nlp.add_pipe(\"spacytextblob\")"
   ]
  },
  {
   "cell_type": "code",
   "execution_count": 8,
   "metadata": {},
   "outputs": [
    {
     "data": {
      "text/plain": [
       "[('tok2vec', <spacy.pipeline.tok2vec.Tok2Vec at 0x1b97fec3460>),\n",
       " ('tagger', <spacy.pipeline.tagger.Tagger at 0x1b97fec3c40>),\n",
       " ('parser', <spacy.pipeline.dep_parser.DependencyParser at 0x1b97fd4f8b0>),\n",
       " ('senter', <spacy.pipeline.senter.SentenceRecognizer at 0x1b97fec3be0>),\n",
       " ('attribute_ruler',\n",
       "  <spacy.pipeline.attributeruler.AttributeRuler at 0x1b90608dc00>),\n",
       " ('lemmatizer', <spacy.lang.en.lemmatizer.EnglishLemmatizer at 0x1b90608e280>),\n",
       " ('ner', <spacy.pipeline.ner.EntityRecognizer at 0x1b97fd4fb50>),\n",
       " ('spacytextblob',\n",
       "  <spacytextblob.spacytextblob.SpacyTextBlob at 0x1b91a363b80>)]"
      ]
     },
     "execution_count": 8,
     "metadata": {},
     "output_type": "execute_result"
    }
   ],
   "source": [
    "# Recheck our components\n",
    "nlp.components"
   ]
  },
  {
   "cell_type": "code",
   "execution_count": 9,
   "metadata": {},
   "outputs": [
    {
     "data": {
      "text/plain": [
       "[('tok2vec', <spacy.pipeline.tok2vec.Tok2Vec at 0x1b97fec3460>),\n",
       " ('tagger', <spacy.pipeline.tagger.Tagger at 0x1b97fec3c40>),\n",
       " ('parser', <spacy.pipeline.dep_parser.DependencyParser at 0x1b97fd4f8b0>),\n",
       " ('attribute_ruler',\n",
       "  <spacy.pipeline.attributeruler.AttributeRuler at 0x1b90608dc00>),\n",
       " ('lemmatizer', <spacy.lang.en.lemmatizer.EnglishLemmatizer at 0x1b90608e280>),\n",
       " ('ner', <spacy.pipeline.ner.EntityRecognizer at 0x1b97fd4fb50>),\n",
       " ('spacytextblob',\n",
       "  <spacytextblob.spacytextblob.SpacyTextBlob at 0x1b91a363b80>)]"
      ]
     },
     "execution_count": 9,
     "metadata": {},
     "output_type": "execute_result"
    }
   ],
   "source": [
    "# Recheck \n",
    "nlp.pipeline"
   ]
  },
  {
   "cell_type": "code",
   "execution_count": 37,
   "metadata": {},
   "outputs": [],
   "source": [
    "mytext = \"I love chocolate\"\n",
    "docx = nlp(mytext)"
   ]
  },
  {
   "cell_type": "code",
   "execution_count": 38,
   "metadata": {},
   "outputs": [
    {
     "data": {
      "text/plain": [
       "0.5"
      ]
     },
     "execution_count": 38,
     "metadata": {},
     "output_type": "execute_result"
    }
   ],
   "source": [
    "#check sentiment polarity\n",
    "docx._.polarity"
   ]
  },
  {
   "cell_type": "code",
   "execution_count": 39,
   "metadata": {},
   "outputs": [
    {
     "data": {
      "text/plain": [
       "0.6"
      ]
     },
     "execution_count": 39,
     "metadata": {},
     "output_type": "execute_result"
    }
   ],
   "source": [
    "#check sentiment subjectivity\n",
    "docx._.subjectivity"
   ]
  },
  {
   "cell_type": "code",
   "execution_count": 40,
   "metadata": {},
   "outputs": [
    {
     "data": {
      "text/plain": [
       "[(['love'], 0.5, 0.6, None)]"
      ]
     },
     "execution_count": 40,
     "metadata": {},
     "output_type": "execute_result"
    }
   ],
   "source": [
    "#check assessment: list polarity/subjectivity for the assessed token\n",
    "docx._.assessments"
   ]
  },
  {
   "cell_type": "markdown",
   "metadata": {},
   "source": [
    "Open dataframes"
   ]
  },
  {
   "cell_type": "code",
   "execution_count": 2,
   "metadata": {},
   "outputs": [],
   "source": [
    "import pandas as pd\n",
    "df1 = pd.read_csv(\"/Users/sanzi/Desktop/AirBnB-Opinion-Mining-Project/data/review/reviews_list1.csv\")\n",
    "df2 = pd.read_csv(\"/Users/sanzi/Desktop/AirBnB-Opinion-Mining-Project/data/review/reviews_list1_5.csv\")\n",
    "df3 = pd.read_csv(\"/Users/sanzi/Desktop/AirBnB-Opinion-Mining-Project/data/review/reviews_list2.csv\")\n",
    "df4 = pd.read_csv(\"/Users/sanzi/Desktop/AirBnB-Opinion-Mining-Project/data/review/reviews_list3.csv\")\n",
    "df5 = pd.read_csv(\"/Users/sanzi/Desktop/AirBnB-Opinion-Mining-Project/data/review/reviews_list4.csv\")\n",
    "df6 = pd.read_csv(\"/Users/sanzi/Desktop/AirBnB-Opinion-Mining-Project/data/review/reviews_list5.csv\")\n",
    "df7 = pd.read_csv(\"/Users/sanzi/Desktop/AirBnB-Opinion-Mining-Project/data/review/reviews_list6.csv\")\n",
    "df8 = pd.read_csv(\"/Users/sanzi/Desktop/AirBnB-Opinion-Mining-Project/data/review/reviews_list7.csv\")\n",
    "df9 = pd.read_csv(\"/Users/sanzi/Desktop/AirBnB-Opinion-Mining-Project/data/review/reviews_list8.csv\")\n",
    "df10 = pd.read_csv(\"/Users/sanzi/Desktop/AirBnB-Opinion-Mining-Project/data/review/reviews_list9.csv\")\n",
    "df11 = pd.read_csv(\"/Users/sanzi/Desktop/AirBnB-Opinion-Mining-Project/data/review/reviews_list10.csv\")\n",
    "\n",
    "frames = [df1, df2, df3, df4, df5, df6, df7, df8, df9, df10, df11]"
   ]
  },
  {
   "cell_type": "markdown",
   "metadata": {},
   "source": [
    "Applying Automation for Sentiment Analysis to all reviews:"
   ]
  },
  {
   "cell_type": "code",
   "execution_count": 45,
   "metadata": {},
   "outputs": [],
   "source": [
    "for i in range(len(frames)):\n",
    "    #automate polarity for reviews2.csv\n",
    "    for i, row in frames[i].iterrows():\n",
    "        comments = str(frames[i].at[i, 'comments'])\n",
    "        polarity = nlp(comments)._.polarity\n",
    "        '''\n",
    "        #test break\n",
    "        if i==8:\n",
    "            break\n",
    "        \n",
    "        '''\n",
    "        #if statement for pos/neg/na\n",
    "        if polarity > 0:\n",
    "            rating = \"positive\"\n",
    "        elif polarity < 0:\n",
    "            rating = \"negative\"\n",
    "        elif polarity == 0:\n",
    "            rating = \"NA\"\n",
    "        #add new column\n",
    "        frames[i].at[i, 'Sentiment Rating'] = rating\n",
    "    #export to new csv file\n",
    "    frames[i].to_csv('output CSV files/ratedReviews{i}.csv')"
   ]
  },
  {
   "cell_type": "markdown",
   "metadata": {},
   "source": [
    "Group counts and get the counts for each listing id"
   ]
  },
  {
   "cell_type": "code",
   "execution_count": 4,
   "metadata": {},
   "outputs": [
    {
     "data": {
      "text/html": [
       "<div>\n",
       "<style scoped>\n",
       "    .dataframe tbody tr th:only-of-type {\n",
       "        vertical-align: middle;\n",
       "    }\n",
       "\n",
       "    .dataframe tbody tr th {\n",
       "        vertical-align: top;\n",
       "    }\n",
       "\n",
       "    .dataframe thead th {\n",
       "        text-align: right;\n",
       "    }\n",
       "</style>\n",
       "<table border=\"1\" class=\"dataframe\">\n",
       "  <thead>\n",
       "    <tr style=\"text-align: right;\">\n",
       "      <th></th>\n",
       "      <th>listing_id</th>\n",
       "      <th>id</th>\n",
       "      <th>date</th>\n",
       "      <th>reviewer_id</th>\n",
       "      <th>reviewer_name</th>\n",
       "      <th>Reviews</th>\n",
       "    </tr>\n",
       "  </thead>\n",
       "  <tbody>\n",
       "    <tr>\n",
       "      <th>0</th>\n",
       "      <td>2539</td>\n",
       "      <td>55688172</td>\n",
       "      <td>2015-12-04</td>\n",
       "      <td>25160947</td>\n",
       "      <td>Peter</td>\n",
       "      <td>Great host</td>\n",
       "    </tr>\n",
       "    <tr>\n",
       "      <th>1</th>\n",
       "      <td>2539</td>\n",
       "      <td>97474898</td>\n",
       "      <td>2016-08-27</td>\n",
       "      <td>91513326</td>\n",
       "      <td>Liz</td>\n",
       "      <td>Nice room price Great neighborhood John accomm...</td>\n",
       "    </tr>\n",
       "    <tr>\n",
       "      <th>2</th>\n",
       "      <td>2539</td>\n",
       "      <td>105340344</td>\n",
       "      <td>2016-10-01</td>\n",
       "      <td>90022459</td>\n",
       "      <td>Евгений</td>\n",
       "      <td>nice apt New remodeled</td>\n",
       "    </tr>\n",
       "    <tr>\n",
       "      <th>3</th>\n",
       "      <td>2539</td>\n",
       "      <td>133131670</td>\n",
       "      <td>2017-02-20</td>\n",
       "      <td>116165195</td>\n",
       "      <td>George</td>\n",
       "      <td>Great place stay John great host great man hou...</td>\n",
       "    </tr>\n",
       "    <tr>\n",
       "      <th>4</th>\n",
       "      <td>2539</td>\n",
       "      <td>157777930</td>\n",
       "      <td>2017-06-04</td>\n",
       "      <td>1806142</td>\n",
       "      <td>Isaac</td>\n",
       "      <td>really enjoyed time deep south Brooklyn John e...</td>\n",
       "    </tr>\n",
       "    <tr>\n",
       "      <th>...</th>\n",
       "      <td>...</td>\n",
       "      <td>...</td>\n",
       "      <td>...</td>\n",
       "      <td>...</td>\n",
       "      <td>...</td>\n",
       "      <td>...</td>\n",
       "    </tr>\n",
       "    <tr>\n",
       "      <th>40215</th>\n",
       "      <td>433218</td>\n",
       "      <td>158077062</td>\n",
       "      <td>2017-06-05</td>\n",
       "      <td>20579024</td>\n",
       "      <td>Leah</td>\n",
       "      <td>Lovely big apartment excellent locationbrOn ar...</td>\n",
       "    </tr>\n",
       "    <tr>\n",
       "      <th>40216</th>\n",
       "      <td>433218</td>\n",
       "      <td>161823667</td>\n",
       "      <td>2017-06-18</td>\n",
       "      <td>47408064</td>\n",
       "      <td>Sammie</td>\n",
       "      <td>Miya extremely kind communicated everything we...</td>\n",
       "    </tr>\n",
       "    <tr>\n",
       "      <th>40217</th>\n",
       "      <td>433218</td>\n",
       "      <td>163106854</td>\n",
       "      <td>2017-06-23</td>\n",
       "      <td>51825151</td>\n",
       "      <td>Ane</td>\n",
       "      <td>loved staying Miyas place apartment cute spaci...</td>\n",
       "    </tr>\n",
       "    <tr>\n",
       "      <th>40218</th>\n",
       "      <td>433218</td>\n",
       "      <td>164253612</td>\n",
       "      <td>2017-06-26</td>\n",
       "      <td>4993533</td>\n",
       "      <td>Katy</td>\n",
       "      <td>lovely place great neighborhood Lots light con...</td>\n",
       "    </tr>\n",
       "    <tr>\n",
       "      <th>40219</th>\n",
       "      <td>433218</td>\n",
       "      <td>177687354</td>\n",
       "      <td>2017-08-03</td>\n",
       "      <td>55213422</td>\n",
       "      <td>Lauren</td>\n",
       "      <td>husband loved place Great location great apart...</td>\n",
       "    </tr>\n",
       "  </tbody>\n",
       "</table>\n",
       "<p>40220 rows × 6 columns</p>\n",
       "</div>"
      ],
      "text/plain": [
       "       listing_id         id        date  reviewer_id reviewer_name  \\\n",
       "0            2539   55688172  2015-12-04     25160947         Peter   \n",
       "1            2539   97474898  2016-08-27     91513326           Liz   \n",
       "2            2539  105340344  2016-10-01     90022459       Евгений   \n",
       "3            2539  133131670  2017-02-20    116165195        George   \n",
       "4            2539  157777930  2017-06-04      1806142         Isaac   \n",
       "...           ...        ...         ...          ...           ...   \n",
       "40215      433218  158077062  2017-06-05     20579024          Leah   \n",
       "40216      433218  161823667  2017-06-18     47408064        Sammie   \n",
       "40217      433218  163106854  2017-06-23     51825151           Ane   \n",
       "40218      433218  164253612  2017-06-26      4993533          Katy   \n",
       "40219      433218  177687354  2017-08-03     55213422        Lauren   \n",
       "\n",
       "                                                 Reviews  \n",
       "0                                             Great host  \n",
       "1      Nice room price Great neighborhood John accomm...  \n",
       "2                                 nice apt New remodeled  \n",
       "3      Great place stay John great host great man hou...  \n",
       "4      really enjoyed time deep south Brooklyn John e...  \n",
       "...                                                  ...  \n",
       "40215  Lovely big apartment excellent locationbrOn ar...  \n",
       "40216  Miya extremely kind communicated everything we...  \n",
       "40217  loved staying Miyas place apartment cute spaci...  \n",
       "40218  lovely place great neighborhood Lots light con...  \n",
       "40219  husband loved place Great location great apart...  \n",
       "\n",
       "[40220 rows x 6 columns]"
      ]
     },
     "execution_count": 4,
     "metadata": {},
     "output_type": "execute_result"
    }
   ],
   "source": [
    "df1"
   ]
  },
  {
   "cell_type": "code",
   "execution_count": 9,
   "metadata": {},
   "outputs": [
    {
     "name": "stdout",
     "output_type": "stream",
     "text": [
      "                        id  date  Reviews\n",
      "listing_id reviewer_id                   \n",
      "2539       8             1     1        1\n",
      "2595       37            1     1        1\n",
      "5121       46            1     1        1\n",
      "5136       2             1     1        1\n",
      "5178       365           1     1        1\n",
      "...                     ..   ...      ...\n",
      "430665     8             1     1        1\n",
      "431865     54            1     1        1\n",
      "432090     56            1     1        1\n",
      "432823     1             1     1        1\n",
      "433218     22            1     1        1\n",
      "\n",
      "[529 rows x 3 columns]\n"
     ]
    }
   ],
   "source": [
    "df1 = df1.groupby(['listing_id','reviewer_id']).count()\n",
    "print(df1)"
   ]
  },
  {
   "cell_type": "code",
   "execution_count": null,
   "metadata": {},
   "outputs": [],
   "source": [
    "df1 = df1.groupby(['listing_id','sentiment_rating']).count()\n",
    "print(df1)"
   ]
  }
 ],
 "metadata": {
  "kernelspec": {
   "display_name": "Python 3.10.6 64-bit",
   "language": "python",
   "name": "python3"
  },
  "language_info": {
   "codemirror_mode": {
    "name": "ipython",
    "version": 3
   },
   "file_extension": ".py",
   "mimetype": "text/x-python",
   "name": "python",
   "nbconvert_exporter": "python",
   "pygments_lexer": "ipython3",
   "version": "3.10.6"
  },
  "orig_nbformat": 4,
  "vscode": {
   "interpreter": {
    "hash": "aee8b7b246df8f9039afb4144a1f6fd8d2ca17a180786b69acc140d282b71a49"
   }
  }
 },
 "nbformat": 4,
 "nbformat_minor": 2
}
