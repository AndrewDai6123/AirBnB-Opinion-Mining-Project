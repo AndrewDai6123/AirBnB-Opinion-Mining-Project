{
 "cells": [
  {
   "cell_type": "code",
   "execution_count": 2,
   "metadata": {},
   "outputs": [],
   "source": [
    "#load NLP Packages\n",
    "import spacy\n",
    "nlp = spacy.load('en_core_web_sm')"
   ]
  },
  {
   "cell_type": "code",
   "execution_count": 3,
   "metadata": {},
   "outputs": [
    {
     "data": {
      "text/plain": [
       "[('tok2vec', <spacy.pipeline.tok2vec.Tok2Vec at 0x1b97fec3460>),\n",
       " ('tagger', <spacy.pipeline.tagger.Tagger at 0x1b97fec3c40>),\n",
       " ('parser', <spacy.pipeline.dep_parser.DependencyParser at 0x1b97fd4f8b0>),\n",
       " ('senter', <spacy.pipeline.senter.SentenceRecognizer at 0x1b97fec3be0>),\n",
       " ('attribute_ruler',\n",
       "  <spacy.pipeline.attributeruler.AttributeRuler at 0x1b90608dc00>),\n",
       " ('lemmatizer', <spacy.lang.en.lemmatizer.EnglishLemmatizer at 0x1b90608e280>),\n",
       " ('ner', <spacy.pipeline.ner.EntityRecognizer at 0x1b97fd4fb50>)]"
      ]
     },
     "execution_count": 3,
     "metadata": {},
     "output_type": "execute_result"
    }
   ],
   "source": [
    "#Explore Components of NLP pipeline\n",
    "#Method\n",
    "nlp.components"
   ]
  },
  {
   "cell_type": "code",
   "execution_count": 4,
   "metadata": {},
   "outputs": [
    {
     "data": {
      "text/plain": [
       "[('tok2vec', <spacy.pipeline.tok2vec.Tok2Vec at 0x1b97fec3460>),\n",
       " ('tagger', <spacy.pipeline.tagger.Tagger at 0x1b97fec3c40>),\n",
       " ('parser', <spacy.pipeline.dep_parser.DependencyParser at 0x1b97fd4f8b0>),\n",
       " ('attribute_ruler',\n",
       "  <spacy.pipeline.attributeruler.AttributeRuler at 0x1b90608dc00>),\n",
       " ('lemmatizer', <spacy.lang.en.lemmatizer.EnglishLemmatizer at 0x1b90608e280>),\n",
       " ('ner', <spacy.pipeline.ner.EntityRecognizer at 0x1b97fd4fb50>)]"
      ]
     },
     "execution_count": 4,
     "metadata": {},
     "output_type": "execute_result"
    }
   ],
   "source": [
    "#Method 2\n",
    "nlp.pipeline"
   ]
  },
  {
   "cell_type": "markdown",
   "metadata": {},
   "source": [
    "Using Spacy Textblob: Sentiment Analysis using Textblob"
   ]
  },
  {
   "cell_type": "code",
   "execution_count": 5,
   "metadata": {},
   "outputs": [],
   "source": [
    "from spacytextblob.spacytextblob import SpacyTextBlob"
   ]
  },
  {
   "cell_type": "code",
   "execution_count": 7,
   "metadata": {},
   "outputs": [
    {
     "data": {
      "text/plain": [
       "<spacytextblob.spacytextblob.SpacyTextBlob at 0x1b91a363b80>"
      ]
     },
     "execution_count": 7,
     "metadata": {},
     "output_type": "execute_result"
    }
   ],
   "source": [
    "# Adding SpacyTextblob to NLP Pipeline\n",
    "nlp.add_pipe(\"spacytextblob\")"
   ]
  },
  {
   "cell_type": "code",
   "execution_count": 8,
   "metadata": {},
   "outputs": [
    {
     "data": {
      "text/plain": [
       "[('tok2vec', <spacy.pipeline.tok2vec.Tok2Vec at 0x1b97fec3460>),\n",
       " ('tagger', <spacy.pipeline.tagger.Tagger at 0x1b97fec3c40>),\n",
       " ('parser', <spacy.pipeline.dep_parser.DependencyParser at 0x1b97fd4f8b0>),\n",
       " ('senter', <spacy.pipeline.senter.SentenceRecognizer at 0x1b97fec3be0>),\n",
       " ('attribute_ruler',\n",
       "  <spacy.pipeline.attributeruler.AttributeRuler at 0x1b90608dc00>),\n",
       " ('lemmatizer', <spacy.lang.en.lemmatizer.EnglishLemmatizer at 0x1b90608e280>),\n",
       " ('ner', <spacy.pipeline.ner.EntityRecognizer at 0x1b97fd4fb50>),\n",
       " ('spacytextblob',\n",
       "  <spacytextblob.spacytextblob.SpacyTextBlob at 0x1b91a363b80>)]"
      ]
     },
     "execution_count": 8,
     "metadata": {},
     "output_type": "execute_result"
    }
   ],
   "source": [
    "# Recheck our components\n",
    "nlp.components"
   ]
  },
  {
   "cell_type": "code",
   "execution_count": 9,
   "metadata": {},
   "outputs": [
    {
     "data": {
      "text/plain": [
       "[('tok2vec', <spacy.pipeline.tok2vec.Tok2Vec at 0x1b97fec3460>),\n",
       " ('tagger', <spacy.pipeline.tagger.Tagger at 0x1b97fec3c40>),\n",
       " ('parser', <spacy.pipeline.dep_parser.DependencyParser at 0x1b97fd4f8b0>),\n",
       " ('attribute_ruler',\n",
       "  <spacy.pipeline.attributeruler.AttributeRuler at 0x1b90608dc00>),\n",
       " ('lemmatizer', <spacy.lang.en.lemmatizer.EnglishLemmatizer at 0x1b90608e280>),\n",
       " ('ner', <spacy.pipeline.ner.EntityRecognizer at 0x1b97fd4fb50>),\n",
       " ('spacytextblob',\n",
       "  <spacytextblob.spacytextblob.SpacyTextBlob at 0x1b91a363b80>)]"
      ]
     },
     "execution_count": 9,
     "metadata": {},
     "output_type": "execute_result"
    }
   ],
   "source": [
    "# Recheck \n",
    "nlp.pipeline"
   ]
  },
  {
   "cell_type": "code",
   "execution_count": 37,
   "metadata": {},
   "outputs": [],
   "source": [
    "mytext = \"I love chocolate\"\n",
    "docx = nlp(mytext)"
   ]
  },
  {
   "cell_type": "code",
   "execution_count": 38,
   "metadata": {},
   "outputs": [
    {
     "data": {
      "text/plain": [
       "0.5"
      ]
     },
     "execution_count": 38,
     "metadata": {},
     "output_type": "execute_result"
    }
   ],
   "source": [
    "#check sentiment polarity\n",
    "docx._.polarity"
   ]
  },
  {
   "cell_type": "code",
   "execution_count": 39,
   "metadata": {},
   "outputs": [
    {
     "data": {
      "text/plain": [
       "0.6"
      ]
     },
     "execution_count": 39,
     "metadata": {},
     "output_type": "execute_result"
    }
   ],
   "source": [
    "#check sentiment subjectivity\n",
    "docx._.subjectivity"
   ]
  },
  {
   "cell_type": "code",
   "execution_count": 40,
   "metadata": {},
   "outputs": [
    {
     "data": {
      "text/plain": [
       "[(['love'], 0.5, 0.6, None)]"
      ]
     },
     "execution_count": 40,
     "metadata": {},
     "output_type": "execute_result"
    }
   ],
   "source": [
    "#check assessment: list polarity/subjectivity for the assessed token\n",
    "docx._.assessments"
   ]
  }
 ],
 "metadata": {
  "kernelspec": {
   "display_name": "Python 3.10.7 64-bit",
   "language": "python",
   "name": "python3"
  },
  "language_info": {
   "codemirror_mode": {
    "name": "ipython",
    "version": 3
   },
   "file_extension": ".py",
   "mimetype": "text/x-python",
   "name": "python",
   "nbconvert_exporter": "python",
   "pygments_lexer": "ipython3",
   "version": "3.10.7"
  },
  "orig_nbformat": 4,
  "vscode": {
   "interpreter": {
    "hash": "6847c98a8f86b01c6a19c518cd2f366693b80566b266804d5ca763cbb223f52b"
   }
  }
 },
 "nbformat": 4,
 "nbformat_minor": 2
}
